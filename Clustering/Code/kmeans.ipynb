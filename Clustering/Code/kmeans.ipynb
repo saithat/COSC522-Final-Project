{
  "nbformat": 4,
  "nbformat_minor": 0,
  "metadata": {
    "colab": {
      "name": "kmeans.ipynb",
      "provenance": []
    },
    "kernelspec": {
      "name": "python3",
      "display_name": "Python 3"
    }
  },
  "cells": [
    {
      "cell_type": "code",
      "metadata": {
        "id": "FPlXvdHlDYJA"
      },
      "source": [
        "import os\n",
        "import os, subprocess, time\n",
        "import numpy as np\n",
        "from matplotlib import pyplot as plt\n",
        "from sklearn import model_selection as ms\n",
        "from sklearn.cluster import KMeans\n",
        "from sklearn.metrics import accuracy_score\n",
        "\n",
        "#!pip install kaggle\n",
        "from google.colab import drive"
      ],
      "execution_count": 2,
      "outputs": []
    },
    {
      "cell_type": "code",
      "metadata": {
        "colab": {
          "base_uri": "https://localhost:8080/"
        },
        "id": "OeazAGPTGECl",
        "outputId": "c27be9ac-a898-4a56-d47d-ce6bf933c0a3"
      },
      "source": [
        "drive.mount('/content/drive', force_remount=True)"
      ],
      "execution_count": 3,
      "outputs": [
        {
          "output_type": "stream",
          "text": [
            "Mounted at /content/drive\n"
          ],
          "name": "stdout"
        }
      ]
    },
    {
      "cell_type": "code",
      "metadata": {
        "id": "JvLr9AlAGfxq"
      },
      "source": [
        "!cp -r /content/drive/'Shared drives'/'ML Final Project'/xray_dataset_pooled /content/"
      ],
      "execution_count": 4,
      "outputs": []
    },
    {
      "cell_type": "code",
      "metadata": {
        "id": "OgXbWxLTGk8r"
      },
      "source": [
        "X = np.load('/content/xray_dataset_pooled/train_processed.npy')"
      ],
      "execution_count": 5,
      "outputs": []
    },
    {
      "cell_type": "code",
      "metadata": {
        "id": "An0SfLqiGq9d"
      },
      "source": [
        "#running kmeans with 200 clusters - gets .88 accuracy with 50 clusters if you want\n",
        "#to run faster\n",
        "kmeans = KMeans(n_clusters=200, random_state=0).fit_predict(X)"
      ],
      "execution_count": 40,
      "outputs": []
    },
    {
      "cell_type": "markdown",
      "metadata": {
        "id": "PPXnByL7w3Ov"
      },
      "source": [
        "https://medium.com/@joel_34096/k-means-clustering-for-image-classification-a648f28bdc47"
      ]
    },
    {
      "cell_type": "code",
      "metadata": {
        "id": "5XjN_OV6buql"
      },
      "source": [
        "def retrieve_info(cluster_labels,y_train):\n",
        "\n",
        "  # Initializing\n",
        "  reference_labels = {}\n",
        "  # For loop to run through each label of cluster label\n",
        "  for i in range(len(np.unique(kmeans))):\n",
        "    index = np.where(cluster_labels == i,1,0)\n",
        "    num = np.bincount(y_train[index==1]).argmax()\n",
        "    reference_labels[i] = num\n",
        "      \n",
        "  return reference_labels"
      ],
      "execution_count": 41,
      "outputs": []
    },
    {
      "cell_type": "code",
      "metadata": {
        "id": "uIyWQS8yWIQ_"
      },
      "source": [
        "#reducing the 50 clusters to two classes\n",
        "y_true = np.load('/content/xray_dataset_pooled/train_labels.npy') \n",
        "reference_labels = retrieve_info(kmeans,y_true)\n",
        "number_labels = np.random.rand(len(kmeans))\n",
        "for i in range(len(kmeans)):\n",
        "  number_labels[i] = reference_labels[kmeans[i]]"
      ],
      "execution_count": 42,
      "outputs": []
    },
    {
      "cell_type": "code",
      "metadata": {
        "id": "z9gVSlZJbZtX",
        "outputId": "66af7e1e-b9df-49d3-e5a6-48c8a78d2103",
        "colab": {
          "base_uri": "https://localhost:8080/"
        }
      },
      "source": [
        "print(number_labels)\n",
        "np.save('KMeansClustering_output_labels.npy', number_labels)"
      ],
      "execution_count": 48,
      "outputs": [
        {
          "output_type": "stream",
          "text": [
            "[0. 0. 0. ... 1. 1. 1.]\n"
          ],
          "name": "stdout"
        }
      ]
    },
    {
      "cell_type": "code",
      "metadata": {
        "colab": {
          "base_uri": "https://localhost:8080/"
        },
        "id": "ewCMy6VxKtQH",
        "outputId": "34ede1cf-15ff-40ca-ecb3-5e43d26267a9"
      },
      "source": [
        "#get accuracy\n",
        "y_pred = number_labels\n",
        "accuracy_score(y_true, y_pred)"
      ],
      "execution_count": 44,
      "outputs": [
        {
          "output_type": "execute_result",
          "data": {
            "text/plain": [
              "0.9131518404907976"
            ]
          },
          "metadata": {
            "tags": []
          },
          "execution_count": 44
        }
      ]
    }
  ]
}