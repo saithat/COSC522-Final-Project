{
  "nbformat": 4,
  "nbformat_minor": 0,
  "metadata": {
    "colab": {
      "name": "AgglomerativeClustering.ipynb",
      "provenance": []
    },
    "kernelspec": {
      "name": "python3",
      "display_name": "Python 3"
    }
  },
  "cells": [
    {
      "cell_type": "code",
      "metadata": {
        "id": "5RMNY6GmPIvi"
      },
      "source": [
        "import os\n",
        "import os, subprocess, time\n",
        "import numpy as np\n",
        "from matplotlib import pyplot as plt\n",
        "from sklearn import model_selection as ms\n",
        "from sklearn.cluster import AgglomerativeClustering\n",
        "from sklearn.metrics import accuracy_score\n",
        "\n",
        "#!pip install kaggle\n",
        "from google.colab import drive"
      ],
      "execution_count": 2,
      "outputs": []
    },
    {
      "cell_type": "code",
      "metadata": {
        "colab": {
          "base_uri": "https://localhost:8080/"
        },
        "id": "R6gXM-e9q1iz",
        "outputId": "ecd3f689-1a96-46a2-b790-ba912984e75f"
      },
      "source": [
        "drive.mount('/content/drive', force_remount=True)"
      ],
      "execution_count": 3,
      "outputs": [
        {
          "output_type": "stream",
          "text": [
            "Mounted at /content/drive\n"
          ],
          "name": "stdout"
        }
      ]
    },
    {
      "cell_type": "code",
      "metadata": {
        "id": "7JY8yqsAtSor"
      },
      "source": [
        "!cp -r /content/drive/'Shared drives'/'ML Final Project'/xray_dataset_pooled /content/"
      ],
      "execution_count": 4,
      "outputs": []
    },
    {
      "cell_type": "code",
      "metadata": {
        "id": "1LNzY0Obuk8F"
      },
      "source": [
        "X = np.load('/content/xray_dataset_pooled/train_processed.npy')"
      ],
      "execution_count": 5,
      "outputs": []
    },
    {
      "cell_type": "code",
      "metadata": {
        "id": "ShJW-Hxp5O3-"
      },
      "source": [
        "clustering = AgglomerativeClustering(n_clusters = 50).fit_predict(X)"
      ],
      "execution_count": 6,
      "outputs": []
    },
    {
      "cell_type": "code",
      "metadata": {
        "id": "aaBFq2bfzHpo"
      },
      "source": [
        "def retrieve_info(cluster_labels,y_train):\n",
        "\n",
        "  # Initializing\n",
        "  reference_labels = {}\n",
        "  # For loop to run through each label of cluster label\n",
        "  for i in range(len(np.unique(clustering))):\n",
        "    index = np.where(cluster_labels == i,1,0)\n",
        "    num = np.bincount(y_train[index==1]).argmax()\n",
        "    reference_labels[i] = num\n",
        "      \n",
        "  return reference_labels"
      ],
      "execution_count": 7,
      "outputs": []
    },
    {
      "cell_type": "code",
      "metadata": {
        "id": "u9UVpJiFzPwA"
      },
      "source": [
        "y_true = np.load('/content/xray_dataset_pooled/train_labels.npy') \n",
        "reference_labels = retrieve_info(clustering,y_true)\n",
        "number_labels = np.random.rand(len(clustering))\n",
        "for i in range(len(clustering)):\n",
        "  number_labels[i] = reference_labels[clustering[i]]"
      ],
      "execution_count": 8,
      "outputs": []
    },
    {
      "cell_type": "code",
      "metadata": {
        "colab": {
          "base_uri": "https://localhost:8080/"
        },
        "id": "W6U8IYgR8GGQ",
        "outputId": "3b9b4d6e-eef3-4b6c-948c-4d9339f76fc2"
      },
      "source": [
        "print(number_labels)\n",
        "np.save('AgglomerativeClustering_output_labels.npy', number_labels)"
      ],
      "execution_count": 10,
      "outputs": [
        {
          "output_type": "stream",
          "text": [
            "[0. 0. 0. ... 1. 1. 1.]\n"
          ],
          "name": "stdout"
        }
      ]
    },
    {
      "cell_type": "code",
      "metadata": {
        "colab": {
          "base_uri": "https://localhost:8080/"
        },
        "id": "mzuFaGZx-XNQ",
        "outputId": "2865dc24-40b5-48b1-964b-144b5d1d83e3"
      },
      "source": [
        "y_true = np.load('/content/xray_dataset_pooled/train_labels.npy')\n",
        "y_pred = number_labels\n",
        "\n",
        "accuracy_score(y_true, y_pred)"
      ],
      "execution_count": 9,
      "outputs": [
        {
          "output_type": "execute_result",
          "data": {
            "text/plain": [
              "0.8897622699386503"
            ]
          },
          "metadata": {
            "tags": []
          },
          "execution_count": 9
        }
      ]
    }
  ]
}